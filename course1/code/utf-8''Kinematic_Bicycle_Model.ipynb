{
 "cells": [
  {
   "cell_type": "markdown",
   "metadata": {},
   "source": [
    "In this notebook, you will implement the kinematic bicycle model. The model accepts velocity and steering rate inputs and steps through the bicycle kinematic equations. Once the model is implemented, you will provide a set of inputs to drive the bicycle in a figure 8 trajectory.\n",
    "\n",
    "The bicycle kinematics are governed by the following set of equations:\n",
    "\n",
    "\\begin{align*}\n",
    "\\dot{x}_c &= v \\cos{(\\theta + \\beta)} \\\\\n",
    "\\dot{y}_c &= v \\sin{(\\theta + \\beta)} \\\\\n",
    "\\dot{\\theta} &= \\frac{v \\cos{\\beta} \\tan{\\delta}}{L} \\\\\n",
    "\\dot{\\delta} &= \\omega \\\\\n",
    "\\beta &= \\tan^{-1}(\\frac{l_r \\tan{\\delta}}{L})\n",
    "\\end{align*}\n",
    "\n",
    "where the inputs are the bicycle speed $v$ and steering angle rate $\\omega$. The input can also directly be the steering angle $\\delta$ rather than its rate in the simplified case. The Python model will allow us both implementations.\n",
    "\n",
    "In order to create this model, it's a good idea to make use of Python class objects. This allows us to store the state variables as well as make functions for implementing the bicycle kinematics. \n",
    "\n",
    "The bicycle begins with zero initial conditions, has a maximum turning rate of 1.22 rad/s, a wheelbase length of 2m, and a length of 1.2m to its center of mass from the rear axle.\n",
    "\n",
    "From these conditions, we initialize the Python class as follows:"
   ]
  },
  {
   "cell_type": "code",
   "execution_count": 1,
   "metadata": {},
   "outputs": [],
   "source": [
    "#from notebook_grader import BicycleSolution, grade_bicycle\n",
    "import numpy as np\n",
    "import matplotlib.pyplot as plt\n",
    "import matplotlib.image as mpimg\n",
    "\n",
    "class Bicycle():\n",
    "    def __init__(self):\n",
    "        self.xc = 0\n",
    "        self.yc = 0\n",
    "        self.theta = 0\n",
    "        self.delta = 0\n",
    "        self.beta = 0\n",
    "        \n",
    "        self.L = 2\n",
    "        self.lr = 1.2\n",
    "        self.w_max = 1.22\n",
    "        \n",
    "        self.sample_time = 0.01\n",
    "        \n",
    "    def reset(self):\n",
    "        self.xc = 0\n",
    "        self.yc = 0\n",
    "        self.theta = 0\n",
    "        self.delta = 0\n",
    "        self.beta = 0"
   ]
  },
  {
   "cell_type": "markdown",
   "metadata": {},
   "source": [
    "A sample time is required for numerical integration when propagating the kinematics through time. This is set to 10 milliseconds. We also have a reset function which sets all the state variables back to 0. \n",
    "\n",
    "With this sample time, implement the kinematic model using the function $\\textit{step}$ defined in the next cell. The function should take speed + angular rate as inputs and update the state variables. Don't forget about the maximum turn rate on the bicycle!"
   ]
  },
  {
   "cell_type": "code",
   "execution_count": 2,
   "metadata": {},
   "outputs": [],
   "source": [
    "class Bicycle(Bicycle):\n",
    "    def step(self, v, w):\n",
    "        # ==================================\n",
    "        #  Implement kinematic model here\n",
    "        # ==================================\n",
    "        \n",
    "        if w > 0:\n",
    "            w = min(w, self.w_max)\n",
    "        else:\n",
    "            w = max(w, -self.w_max)\n",
    "         \n",
    "        \n",
    "        self.xc=self.xc+v*np.cos(self.theta + self.beta)*self.sample_time\n",
    "        self.yc=self.yc+v*np.sin(self.theta + self.beta)*self.sample_time\n",
    "        self.theta=self.theta+(v / self.L) * (np.cos(self.beta) * np.tan(self.delta))*self.sample_time\n",
    "        self.delta = self.delta+w*self.sample_time\n",
    "        self.beta = np.arctan(self.lr*np.tan(self.delta)/self.L)\n",
    "        \n",
    "        pass\n",
    "\n"
   ]
  },
  {
   "cell_type": "markdown",
   "metadata": {},
   "source": [
    "With the model setup, we can now start giving bicycle inputs and producing trajectories. \n",
    "\n",
    "Suppose we want the model to travel a circle of radius 10 m in 20 seconds. Using the relationship between the radius of curvature and the steering angle, the desired steering angle can be computed.\n",
    "\n",
    "\\begin{align*}\n",
    "    \\tan{\\delta} &= \\frac{L}{r} \\\\\n",
    "    \\delta &= \\tan^{-1}(\\frac{L}{r}) \\\\\n",
    "           &= \\tan^{-1}(\\frac{2}{10}) \\\\\n",
    "           &= 0.1974\n",
    "\\end{align*}\n",
    "\n",
    "If the steering angle is directly set to 0.1974 using a simplied bicycled model, then the bicycle will travel in a circle without requiring any additional steering input. \n",
    "\n",
    "The desired speed can be computed from the circumference of the circle:\n",
    "\n",
    "\\begin{align*}\n",
    "    v &= \\frac{d}{t}\\\\\n",
    "     &= \\frac{2 \\pi 10}{20}\\\\\n",
    "     &= \\pi\n",
    "\\end{align*}\n",
    "\n",
    "We can now implement this in a loop to step through the model equations. We will also run our bicycle model solution along with your model to show you the expected trajectory. This will help you verify the correctness of your model."
   ]
  },
  {
   "cell_type": "code",
   "execution_count": 3,
   "metadata": {},
   "outputs": [
    {
     "data": {
      "image/png": "[encoded data removed]",
      "text/plain": [
       "<Figure size 432x288 with 1 Axes>"
      ]
     },
     "metadata": {
      "needs_background": "light"
     },
     "output_type": "display_data"
    }
   ],
   "source": [
    "sample_time = 0.01\n",
    "time_end = 20\n",
    "model = Bicycle()\n",
    "#solution_model = BicycleSolution()\n",
    "\n",
    "# set delta directly\n",
    "model.delta = np.arctan(2/10)\n",
    "#solution_model.delta = np.arctan(2/10)\n",
    "\n",
    "t_data = np.arange(0,time_end,sample_time)\n",
    "x_data = np.zeros_like(t_data)\n",
    "y_data = np.zeros_like(t_data)\n",
    "x_solution = np.zeros_like(t_data)\n",
    "y_solution = np.zeros_like(t_data)\n",
    "\n",
    "for i in range(t_data.shape[0]):\n",
    "    x_data[i] = model.xc\n",
    "    y_data[i] = model.yc\n",
    "    model.step(np.pi, 0)\n",
    "    \n",
    "    #x_solution[i] = solution_model.xc\n",
    "    #y_solution[i] = solution_model.yc\n",
    "    #solution_model.step(np.pi, 0)\n",
    "    \n",
    "    #model.beta = 0\n",
    "    #solution_model.beta=0\n",
    "    \n",
    "plt.axis('equal')\n",
    "plt.plot(x_data, y_data,label='Learner Model')\n",
    "plt.plot(x_solution, y_solution,label='Solution Model')\n",
    "plt.legend()\n",
    "plt.show()"
   ]
  },
  {
   "cell_type": "markdown",
   "metadata": {
    "collapsed": true
   },
   "source": [
    "The plot above shows the desired circle of 10m radius. The path is slightly offset which is caused by the sideslip effects due to $\\beta$. By forcing $\\beta = 0$ through uncommenting the last line in the loop, you can see that the offset disappears and the circle becomes centered at (0,10). \n",
    "\n",
    "However, in practice the steering angle cannot be directly set and must be changed through angular rate inputs $\\omega$. The cell below corrects for this and sets angular rate inputs to generate the same circle trajectory. The speed $v$ is still maintained at $\\pi$ m/s."
   ]
  },
  {
   "cell_type": "code",
   "execution_count": 4,
   "metadata": {},
   "outputs": [
    {
     "data": {
      "image/png": "[encoded data removed]",
      "text/plain": [
       "<Figure size 432x288 with 1 Axes>"
      ]
     },
     "metadata": {
      "needs_background": "light"
     },
     "output_type": "display_data"
    }
   ],
   "source": [
    "sample_time = 0.01\n",
    "time_end = 20\n",
    "model.reset()\n",
    "#solution_model.reset()\n",
    "\n",
    "t_data = np.arange(0,time_end,sample_time)\n",
    "x_data = np.zeros_like(t_data)\n",
    "y_data = np.zeros_like(t_data)\n",
    "x_solution = np.zeros_like(t_data)\n",
    "y_solution = np.zeros_like(t_data)\n",
    "\n",
    "for i in range(t_data.shape[0]):\n",
    "    x_data[i] = model.xc\n",
    "    y_data[i] = model.yc\n",
    "    \n",
    "    if model.delta < np.arctan(2/10):\n",
    "        model.step(np.pi, model.w_max)\n",
    "    else:\n",
    "        model.step(np.pi, 0)\n",
    "        \n",
    "    #x_solution[i] = solution_model.xc\n",
    "    #y_solution[i] = solution_model.yc\n",
    "    \n",
    "    #if solution_model.delta < np.arctan(2/10):\n",
    "        #solution_model.step(np.pi, model.w_max)\n",
    "    #else:\n",
    "        #solution_model.step(np.pi, 0)    \n",
    "\n",
    "plt.axis('equal')\n",
    "plt.plot(x_data, y_data,label='Learner Model')\n",
    "plt.plot(x_solution, y_solution,label='Solution Model')\n",
    "plt.legend()\n",
    "plt.show()"
   ]
  },
  {
   "cell_type": "markdown",
   "metadata": {},
   "source": [
    "Here are some other example trajectories: a square path, a spiral path, and a wave path. Uncomment each section to view."
   ]
  },
  {
   "cell_type": "code",
   "execution_count": 5,
   "metadata": {},
   "outputs": [
    {
     "data": {
      "image/png": "[encoded data removed]",
      "text/plain": [
       "<Figure size 432x288 with 1 Axes>"
      ]
     },
     "metadata": {
      "needs_background": "light"
     },
     "output_type": "display_data"
    }
   ],
   "source": [
    "sample_time = 0.01\n",
    "time_end = 60\n",
    "model.reset()\n",
    "#solution_model.reset()\n",
    "\n",
    "t_data = np.arange(0,time_end,sample_time)\n",
    "x_data = np.zeros_like(t_data)\n",
    "y_data = np.zeros_like(t_data)\n",
    "x_solution = np.zeros_like(t_data)\n",
    "y_solution = np.zeros_like(t_data)\n",
    "\n",
    "# maintain velocity at 4 m/s\n",
    "v_data = np.zeros_like(t_data)\n",
    "v_data[:] = 4 \n",
    "\n",
    "w_data = np.zeros_like(t_data)\n",
    "\n",
    "# ==================================\n",
    "#  Square Path: set w at corners only\n",
    "# ==================================\n",
    "w_data[670:670+100] = 0.753\n",
    "w_data[670+100:670+100*2] = -0.753\n",
    "w_data[2210:2210+100] = 0.753\n",
    "w_data[2210+100:2210+100*2] = -0.753\n",
    "w_data[3670:3670+100] = 0.753\n",
    "w_data[3670+100:3670+100*2] = -0.753\n",
    "w_data[5220:5220+100] = 0.753\n",
    "w_data[5220+100:5220+100*2] = -0.753\n",
    "\n",
    "# ==================================\n",
    "#  Spiral Path: high positive w, then small negative w\n",
    "# ==================================\n",
    "#w_data[:] = -1/100\n",
    "#w_data[0:100] = 1\n",
    "\n",
    "# ==================================\n",
    "#  Wave Path: square wave w input\n",
    "# ==================================\n",
    "#w_data[:] = 0\n",
    "#w_data[0:100] = 1\n",
    "#w_data[100:300] = -1\n",
    "#w_data[300:500] = 1\n",
    "#w_data[500:5700] = np.tile(w_data[100:500], 13)\n",
    "#w_data[5700:] = -1\n",
    "\n",
    "# ==================================\n",
    "#  Step through bicycle model\n",
    "# ==================================\n",
    "for i in range(t_data.shape[0]):\n",
    "    x_data[i] = model.xc\n",
    "    y_data[i] = model.yc\n",
    "    model.step(v_data[i], w_data[i])\n",
    "\n",
    "    #x_solution[i] = solution_model.xc\n",
    "    #y_solution[i] = solution_model.yc\n",
    "    #solution_model.step(v_data[i], w_data[i])\n",
    "    \n",
    "plt.axis('equal')\n",
    "plt.plot(x_data, y_data,label='Learner Model')\n",
    "plt.plot(x_solution, y_solution,label='Solution Model')\n",
    "plt.legend()\n",
    "plt.show()"
   ]
  },
  {
   "cell_type": "markdown",
   "metadata": {},
   "source": [
    "We would now like the bicycle to travel a figure eight trajectory. Both circles in the figure eight have a radius of 8m and the path should complete in 30 seconds. The path begins at the bottom of the left circle and is shown in the figure below:\n",
    "\n",
    "![title](figure8.png)\n",
    "\n",
    "Determine the speed and steering rate inputs required to produce such trajectory and implement in the cell below. Make sure to also save your inputs into the arrays v_data and w_data, these will be used to grade your solution. The cell below also plots the trajectory generated by your own model."
   ]
  },
  {
   "cell_type": "code",
   "execution_count": 30,
   "metadata": {},
   "outputs": [
    {
     "data": {
      "image/png": "[encoded data removed]",
      "text/plain": [
       "<Figure size 432x288 with 1 Axes>"
      ]
     },
     "metadata": {
      "needs_background": "light"
     },
     "output_type": "display_data"
    }
   ],
   "source": [
    "sample_time = 0.01\n",
    "time_end = 30\n",
    "model.reset()\n",
    "\n",
    "t_data = np.arange(0,time_end,sample_time)\n",
    "x_data = np.zeros_like(t_data)\n",
    "y_data = np.zeros_like(t_data)\n",
    "v_data = np.zeros_like(t_data)\n",
    "w_data = np.zeros_like(t_data)\n",
    "\n",
    "# ==================================\n",
    "#  Learner solution begins here\n",
    "# ==================================\n",
    "\n",
    "raggio=8\n",
    "#lunghezza bicicletta/ R\n",
    "delta = 0.996*np.arctan(model.L/raggio)\n",
    "\n",
    "#deve compiere due circonferenze in 30 s\n",
    "v_data = (2 * np.pi * 2 * raggio) / (time_end)\n",
    "\n",
    "#quanti salti dovrà fare\n",
    "t_data = np.arange(0,time_end,sample_time)\n",
    "\n",
    "for i in range(t_data.shape[0]):\n",
    "    x_data[i] = model.xc\n",
    "    y_data[i] = model.yc\n",
    "    \n",
    "    #Since the velocity is constant we can divide the path into 8 slices\n",
    "    #w changes at t_data.shape[0]/8, (5*t_data.shape[0])/8.\n",
    "    if i <= t_data.shape[0]/8:\n",
    "        if model.delta < delta:\n",
    "            model.step(v_data, model.w_max)\n",
    "            w_data[i] = model.w_max\n",
    "        else:\n",
    "            model.step(v_data, 0)\n",
    "            w_data[i] = 0\n",
    "            \n",
    "    elif i <= t_data.shape[0]*5.045/8:\n",
    "        if model.delta > -delta:\n",
    "            model.step(v_data, -model.w_max)\n",
    "            w_data[i] = -model.w_max\n",
    "        else:\n",
    "            model.step(v_data, 0)\n",
    "            w_data[i] = 0\n",
    "            \n",
    "    else:\n",
    "        if model.delta < delta:\n",
    "            model.step(v_data, model.w_max)\n",
    "            w_data[i] = model.w_max\n",
    "        else:\n",
    "            model.step(v_data, 0)\n",
    "            w_data[i] = 0 \n",
    "\n",
    "        \n",
    "    \n",
    "# ==================================\n",
    "#  Learner solution ends here\n",
    "# ==================================\n",
    "plt.axis('equal')\n",
    "plt.plot(x_data, y_data)\n",
    "plt.show()"
   ]
  },
  {
   "cell_type": "markdown",
   "metadata": {},
   "source": [
    "We will now run your speed and angular rate inputs through our bicycle model solution. This is to ensure that your trajectory is correct along with your model. The cell below will display the path generated by our model along with some waypoints on a desired figure 8. Surrounding these waypoints are error tolerance circles with radius 1.5m, your solution will pass the grader if the trajectory generated stays within 80% of these circles."
   ]
  },
  {
   "cell_type": "code",
   "execution_count": 19,
   "metadata": {},
   "outputs": [
    {
     "ename": "NameError",
     "evalue": "name 'grade_bicycle' is not defined",
     "output_type": "error",
     "traceback": [
      "\u001b[0;31m---------------------------------------------------------------------------\u001b[0m",
      "\u001b[0;31mNameError\u001b[0m                                 Traceback (most recent call last)",
      "\u001b[0;32m<ipython-input-19-8006e2314415>\u001b[0m in \u001b[0;36m<module>\u001b[0;34m\u001b[0m\n\u001b[0;32m----> 1\u001b[0;31m \u001b[0mgrade_bicycle\u001b[0m\u001b[0;34m(\u001b[0m\u001b[0mt_data\u001b[0m\u001b[0;34m,\u001b[0m\u001b[0mv_data\u001b[0m\u001b[0;34m,\u001b[0m\u001b[0mw_data\u001b[0m\u001b[0;34m)\u001b[0m\u001b[0;34m\u001b[0m\u001b[0;34m\u001b[0m\u001b[0m\n\u001b[0m",
      "\u001b[0;31mNameError\u001b[0m: name 'grade_bicycle' is not defined"
     ]
    }
   ],
   "source": [
    "grade_bicycle(t_data,v_data,w_data)"
   ]
  },
  {
   "cell_type": "markdown",
   "metadata": {
    "collapsed": true
   },
   "source": [
    "The cell below will save the time and vehicle inputs as text file named $\\textit{figure8.txt}$. To locate the file, change the end of your web directory to $\\textit{/notebooks/Course_1_Module_4/figure8.txt}$\n",
    "\n",
    "Once you are there, you can download the file and submit to the Coursera grader to complete this assessment."
   ]
  },
  {
   "cell_type": "code",
   "execution_count": null,
   "metadata": {},
   "outputs": [],
   "source": [
    "data = np.vstack([t_data, v_data, w_data]).T\n",
    "np.savetxt('figure8.txt', data, delimiter=', ')"
   ]
  },
  {
   "cell_type": "markdown",
   "metadata": {},
   "source": [
    "Congratulations! You have now completed the assessment! Feel free to test the bicycle model with different inputs in the cell below, and see what trajectories they form. For example, try moving in an equilateral triangle. You'll find that it's rather difficult to generate desired trajectories by pre-setting the inputs. The next module on vehicle control will show you an easier and more accurate method. See you there!"
   ]
  },
  {
   "cell_type": "code",
   "execution_count": null,
   "metadata": {},
   "outputs": [],
   "source": [
    "sample_time = 0.01\n",
    "time_end = 30\n",
    "model.reset()\n",
    "\n",
    "t_data = np.arange(0,time_end,sample_time)\n",
    "x_data = np.zeros_like(t_data)\n",
    "y_data = np.zeros_like(t_data)\n",
    "v_data = np.zeros_like(t_data)\n",
    "w_data = np.zeros_like(t_data)\n",
    "\n",
    "# ==================================\n",
    "#  Test various inputs here\n",
    "# ==================================\n",
    "for i in range(t_data.shape[0]):\n",
    "\n",
    "    model.step(v_data[i], w_data[i])\n",
    "    \n",
    "plt.axis('equal')\n",
    "plt.plot(x_data, y_data)\n",
    "plt.show()"
   ]
  }
 ],
 "metadata": {
  "kernelspec": {
   "display_name": "Python 3",
   "language": "python",
   "name": "python3"
  },
  "language_info": {
   "codemirror_mode": {
    "name": "ipython",
    "version": 3
   },
   "file_extension": ".py",
   "mimetype": "text/x-python",
   "name": "python",
   "nbconvert_exporter": "python",
   "pygments_lexer": "ipython3",
   "version": "3.7.6"
  }
 },
 "nbformat": 4,
 "nbformat_minor": 2
}
